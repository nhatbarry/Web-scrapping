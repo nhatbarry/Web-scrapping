{
 "cells": [
  {
   "cell_type": "code",
   "execution_count": 33,
   "metadata": {},
   "outputs": [],
   "source": [
    "import requests\n",
    "import csv\n",
    "from bs4 import BeautifulSoup"
   ]
  },
  {
   "cell_type": "code",
   "execution_count": 2,
   "metadata": {},
   "outputs": [],
   "source": [
    "url = 'https://wakatime.com/leaders/language/html?page=1&country_code=VN'"
   ]
  },
  {
   "cell_type": "code",
   "execution_count": 4,
   "metadata": {},
   "outputs": [
    {
     "data": {
      "text/plain": [
       "<Response [200]>"
      ]
     },
     "execution_count": 4,
     "metadata": {},
     "output_type": "execute_result"
    }
   ],
   "source": [
    "response = requests.get(url)\n",
    "response"
   ]
  },
  {
   "cell_type": "code",
   "execution_count": 68,
   "metadata": {},
   "outputs": [],
   "source": [
    "import csv\n",
    "from bs4 import BeautifulSoup\n",
    "\n",
    "if response.status_code == 200:\n",
    "    soup = BeautifulSoup(response.content, 'html.parser')\n",
    "    table = soup.find('table', class_='table leaders')\n",
    "    rows = table.find_all('tr')\n",
    "    data = []\n",
    "\n",
    "    for row in rows[1:]:\n",
    "        cols = row.find_all('td')\n",
    "        rank = cols[0].text.strip()\n",
    "        name = cols[1].text.strip()\n",
    "        hours = cols[2].text.strip()\n",
    "        daily = cols[3].text.strip()\n",
    "        language = cols[4].text.strip()\n",
    "        \n",
    "        data.append({\n",
    "            'rank': rank,\n",
    "            'name': name,\n",
    "            'hours of coded': hours,\n",
    "            'daily average': daily,\n",
    "            'language used': language\n",
    "        })\n",
    "\n",
    "    with open('leaderboard.csv', 'w', newline='', encoding='utf-8') as csvfile:\n",
    "        writer = csv.DictWriter(csvfile, fieldnames=['rank', 'name', 'hours of coded', 'daily average', 'language used'])\n",
    "        writer.writeheader()\n",
    "        writer.writerows(data)"
   ]
  }
 ],
 "metadata": {
  "kernelspec": {
   "display_name": "venv",
   "language": "python",
   "name": "python3"
  },
  "language_info": {
   "codemirror_mode": {
    "name": "ipython",
    "version": 3
   },
   "file_extension": ".py",
   "mimetype": "text/x-python",
   "name": "python",
   "nbconvert_exporter": "python",
   "pygments_lexer": "ipython3",
   "version": "3.12.7"
  }
 },
 "nbformat": 4,
 "nbformat_minor": 2
}
